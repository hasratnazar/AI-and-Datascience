{
 "cells": [
  {
   "cell_type": "markdown",
   "id": "29c7c631",
   "metadata": {},
   "source": [
    "Data structure : LIST"
   ]
  },
  {
   "cell_type": "code",
   "execution_count": null,
   "id": "e600dc0b",
   "metadata": {},
   "outputs": [
    {
     "name": "stdout",
     "output_type": "stream",
     "text": [
      "Tahir\n",
      "44\n",
      "AI/Data Science\n",
      "True\n"
     ]
    }
   ],
   "source": [
    "#Q1\n",
    "List = ['Tahir', 44, 'AI/Data Science', True] \n",
    "for i in List:\n",
    "    print(i)\n"
   ]
  },
  {
   "cell_type": "code",
   "execution_count": 6,
   "id": "c201ad6a",
   "metadata": {},
   "outputs": [
    {
     "name": "stdout",
     "output_type": "stream",
     "text": [
      "Strings: ['Tahir', 'AI/Data Science']\n",
      "Numbers: [44]\n",
      "Booleans: [True]\n"
     ]
    }
   ],
   "source": [
    "#Q2\n",
    "List = ['Tahir', 44, 'AI/Data Science', True] \n",
    "\n",
    "strings= []\n",
    "numbers = []\n",
    "booleans = []\n",
    "\n",
    "for i in List:\n",
    "    if type(i) == str:       \n",
    "        strings.append(i)\n",
    "    elif type(i) == int or type(i) == float:  \n",
    "        numbers.append(i)\n",
    "    elif type(i) == bool:  \n",
    "        booleans.append(i)\n",
    "\n",
    "print(\"Strings:\", strings)\n",
    "print(\"Numbers:\", numbers)\n",
    "print(\"Booleans:\", booleans)        "
   ]
  },
  {
   "cell_type": "code",
   "execution_count": null,
   "id": "e36d13b5",
   "metadata": {},
   "outputs": [
    {
     "name": "stdout",
     "output_type": "stream",
     "text": [
      "Apple is in the list at the index  0\n",
      "final list: ['Apple', 'orange', 'apricot', 'cherry', 'car', 'bike', 'aeroplane']\n"
     ]
    }
   ],
   "source": [
    "#Q3\n",
    "fruits = ['Apple', 'Resberry', 'pineapple', 'cherry']\n",
    "\n",
    "#a\n",
    "if 'Apple' in fruits:\n",
    "    print(\"Apple is in the list at the index \", fruits.index('Apple'))\n",
    "\n",
    "#b\n",
    "fruits[1:3] = ['orange']  \n",
    "\n",
    "#c\n",
    "fruits.insert(2, 'apricot')\n",
    "\n",
    "#d\n",
    "fruits.extend(['car', 'bike', 'aeroplane'])\n",
    "\n",
    "print(\"final list:\", fruits)"
   ]
  },
  {
   "cell_type": "code",
   "execution_count": 21,
   "id": "32462b3e",
   "metadata": {},
   "outputs": [
    {
     "name": "stdout",
     "output_type": "stream",
     "text": [
      "[90, 89, 50, 40, 23]\n",
      "First Best Score: 90\n",
      "Second Best Score: 89\n"
     ]
    }
   ],
   "source": [
    "#Q4\n",
    "score_list = [40, 89, 90, 89, 23, 90, 50]\n",
    "\n",
    "score_list = list(set(score_list))\n",
    "score_list.sort(reverse=True)\n",
    "print(score_list)\n",
    "\n",
    "first = score_list[0]\n",
    "second = score_list[1]\n",
    "\n",
    "print(\"First Best Score:\", first)\n",
    "print(\"Second Best Score:\", second)"
   ]
  },
  {
   "cell_type": "code",
   "execution_count": null,
   "id": "bf404443",
   "metadata": {},
   "outputs": [
    {
     "name": "stdout",
     "output_type": "stream",
     "text": [
      "List after removing numbers less than 20: [32, 54, 66, 77, 90]\n",
      "Acending order: [32, 54, 66, 77, 90]\n",
      "Descending order: [90, 77, 66, 54, 32]\n",
      "Average value: 63.8\n"
     ]
    }
   ],
   "source": [
    "#Q5\n",
    "\n",
    "no = [32, 54, 66, 11, 77, 10, 90]\n",
    "\n",
    "#a\n",
    "for i in no:\n",
    "    if i < 20:\n",
    "        no.remove(i)\n",
    "print(\"List after removing numbers less than 20:\", no)\n",
    "\n",
    "#b\n",
    "no.sort()\n",
    "print(\"Acending order:\", no)\n",
    "\n",
    "no.sort(reverse=True)\n",
    "print(\"Descending order:\", no)\n",
    "\n",
    "#c\n",
    "average = sum(no) / len(no)\n",
    "print(\"Average value:\", average)"
   ]
  },
  {
   "cell_type": "code",
   "execution_count": 38,
   "id": "40b1c5fa",
   "metadata": {},
   "outputs": [
    {
     "name": "stdout",
     "output_type": "stream",
     "text": [
      "Strings: ['Mobile', 'Laptop', 'Marker', 'Speakers', 'Camera']\n",
      "Numbers: [10.0, 3, 10, 310.25]\n",
      "Sorted Strings: ['Camera', 'Laptop', 'Marker', 'Mobile', 'Speakers']\n",
      "Sorted Numbers: ['Speakers', 'Mobile', 'Marker', 'Laptop', 'Camera']\n",
      "Strings Sorted by Length: ['Mobile', 'Laptop', 'Marker', 'Camera', 'Speakers']\n",
      "Ascending Numbers: [3, 10.0, 10, 310.25]\n",
      "Descending Numbers: [310.25, 10.0, 10, 3]\n"
     ]
    }
   ],
   "source": [
    "#Q6\n",
    "Gadgets = ['Mobile', 'Laptop', 10.0, 'Marker', 3, 10, 'Speakers', 'Camera', 310.25]\n",
    "\n",
    "#a\n",
    "strings = []\n",
    "numbers = []\n",
    "\n",
    "for i in Gadgets:\n",
    "    if type(i) == str:\n",
    "        strings.append(i)\n",
    "    elif type(i) == int or type(i) == float:\n",
    "        numbers.append(i)\n",
    "\n",
    "print(\"Strings:\", strings)\n",
    "print(\"Numbers:\", numbers)      \n",
    "\n",
    "#b\n",
    "sorted_strings_asc = sorted(strings)\n",
    "sorted_strings_dec = sorted(strings, reverse=True)\n",
    "print(\"Sorted Strings:\", sorted_strings_asc)\n",
    "print(\"Sorted Numbers:\", sorted_strings_dec)\n",
    "\n",
    "#c\n",
    "length_sorted = sorted(strings, key=len)\n",
    "print(\"Strings Sorted by Length:\", length_sorted)\n",
    "\n",
    "\n",
    "#d\n",
    "asc_numbers = sorted(numbers)\n",
    "desc_numbers = sorted(numbers, reverse=True)\n",
    "print(\"Ascending Numbers:\", asc_numbers)\n",
    "print(\"Descending Numbers:\", desc_numbers)\n"
   ]
  }
 ],
 "metadata": {
  "kernelspec": {
   "display_name": "base",
   "language": "python",
   "name": "python3"
  },
  "language_info": {
   "codemirror_mode": {
    "name": "ipython",
    "version": 3
   },
   "file_extension": ".py",
   "mimetype": "text/x-python",
   "name": "python",
   "nbconvert_exporter": "python",
   "pygments_lexer": "ipython3",
   "version": "3.12.7"
  }
 },
 "nbformat": 4,
 "nbformat_minor": 5
}

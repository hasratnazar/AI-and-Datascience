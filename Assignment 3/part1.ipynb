{
 "cells": [
  {
   "cell_type": "markdown",
   "id": "0592352d",
   "metadata": {},
   "source": [
    "Part 1 : FUNCTIONS"
   ]
  },
  {
   "cell_type": "code",
   "execution_count": 66,
   "id": "8728c2db",
   "metadata": {},
   "outputs": [
    {
     "name": "stdout",
     "output_type": "stream",
     "text": [
      "Welcome to SMIT training center, Hasrat!\n"
     ]
    }
   ],
   "source": [
    "#Q1\n",
    "def Greetings():\n",
    "    name = input(\"Enter your name: \")\n",
    "    print(f\"Welcome to SMIT training center, {name}!\")\n",
    "    return\n",
    "\n",
    "Greetings()"
   ]
  },
  {
   "cell_type": "code",
   "execution_count": 67,
   "id": "635d322b",
   "metadata": {},
   "outputs": [
    {
     "name": "stdout",
     "output_type": "stream",
     "text": [
      "Positive\n",
      "Negative\n",
      "Zero\n"
     ]
    }
   ],
   "source": [
    "#Q2\n",
    "def number(num):\n",
    "    if num > 0:\n",
    "        return \"Positive\"\n",
    "    elif num < 0:\n",
    "        return \"Negative\"\n",
    "    else:\n",
    "        return \"Zero\"\n",
    "\n",
    "print(number(10))\n",
    "print(number(-5))\n",
    "print(number(0))\n",
    "\n"
   ]
  },
  {
   "cell_type": "code",
   "execution_count": 68,
   "id": "ab25ab78",
   "metadata": {},
   "outputs": [
    {
     "name": "stdout",
     "output_type": "stream",
     "text": [
      "20\n",
      "30\n"
     ]
    }
   ],
   "source": [
    "#Q3\n",
    "def number(num1, num2):\n",
    "    if num1 > num2:\n",
    "        return num1\n",
    "    else:\n",
    "        return num2\n",
    "    \n",
    "print(number(10, 20))\n",
    "print(number(30, 15))"
   ]
  },
  {
   "cell_type": "code",
   "execution_count": 69,
   "id": "7f7ca270",
   "metadata": {},
   "outputs": [
    {
     "name": "stdout",
     "output_type": "stream",
     "text": [
      "30\n",
      "50\n"
     ]
    }
   ],
   "source": [
    "#Q4\n",
    "def number(num1, num2, num3):\n",
    "    if num1 > num2 and num1 > num3:\n",
    "        return num1\n",
    "    elif num2 > num1 and num2 > num3:\n",
    "        return num2\n",
    "    else:\n",
    "        return num3\n",
    "    \n",
    "print(number(10, 20, 30))    \n",
    "print(number(50, 40, 30))    \n"
   ]
  },
  {
   "cell_type": "code",
   "execution_count": 70,
   "id": "b43deb32",
   "metadata": {},
   "outputs": [
    {
     "name": "stdout",
     "output_type": "stream",
     "text": [
      "Minor\n",
      "Adult\n",
      "Senior Citizen\n"
     ]
    }
   ],
   "source": [
    "#Q5\n",
    "def age(num):\n",
    "    if num < 18:\n",
    "        return \"Minor\"\n",
    "    elif 18 <= num < 60:\n",
    "        return \"Adult\"\n",
    "    else:\n",
    "        return \"Senior Citizen\"     \n",
    "    \n",
    "print(age(15))\n",
    "print(age(18))\n",
    "print(age(65))\n"
   ]
  },
  {
   "cell_type": "code",
   "execution_count": 71,
   "id": "52a43072",
   "metadata": {},
   "outputs": [
    {
     "name": "stdout",
     "output_type": "stream",
     "text": [
      "Odd\n",
      "Even\n"
     ]
    }
   ],
   "source": [
    "#Q6\n",
    "def even_odd(num):\n",
    "    if num % 2 == 0:\n",
    "        return \"Even\"\n",
    "    else:\n",
    "        return \"Odd\"\n",
    "    \n",
    "print(even_odd(1))\n",
    "print(even_odd(2))\n"
   ]
  },
  {
   "cell_type": "code",
   "execution_count": 72,
   "id": "016d7c14",
   "metadata": {},
   "outputs": [
    {
     "name": "stdout",
     "output_type": "stream",
     "text": [
      "25\n",
      "100\n"
     ]
    }
   ],
   "source": [
    "#Q7\n",
    "def square(num):\n",
    "    return num * num\n",
    "\n",
    "print(square(5))\n",
    "print(square(10))"
   ]
  },
  {
   "cell_type": "code",
   "execution_count": 73,
   "id": "43c97eaf",
   "metadata": {},
   "outputs": [
    {
     "name": "stdout",
     "output_type": "stream",
     "text": [
      "Area: 28.26, Circumference: 18.84\n"
     ]
    }
   ],
   "source": [
    "#Q8\n",
    "def circle(radius):\n",
    "    area = 3.14 * radius ** 2\n",
    "    circumference = 2 * 3.14 * radius\n",
    "    return area, circumference\n",
    "\n",
    "area, circumference = circle(3)\n",
    "print(f\"Area: {area}, Circumference: {circumference}\")\n"
   ]
  },
  {
   "cell_type": "code",
   "execution_count": 74,
   "id": "37e463d2",
   "metadata": {},
   "outputs": [
    {
     "name": "stdout",
     "output_type": "stream",
     "text": [
      "Pass\n",
      "Fail\n"
     ]
    }
   ],
   "source": [
    "#Q9\n",
    "def score(marks):\n",
    "    if marks > 60:  \n",
    "        return \"Pass\"\n",
    "    else:\n",
    "        return \"Fail\"\n",
    "    \n",
    "print(score(70))  \n",
    "print(score(50))  "
   ]
  },
  {
   "cell_type": "code",
   "execution_count": 75,
   "id": "3b361f7c",
   "metadata": {},
   "outputs": [
    {
     "name": "stdout",
     "output_type": "stream",
     "text": [
      "Prime\n",
      "Prime\n",
      "Not Prime\n",
      "Not Prime\n"
     ]
    }
   ],
   "source": [
    "#Q10\n",
    "def is_prime(num):\n",
    "    if num <= 1:\n",
    "        return \"Not Prime\"\n",
    "    for i in range(2, num):  \n",
    "        if num % i == 0:\n",
    "            return \"Not Prime\"\n",
    "    return \"Prime\"\n",
    "\n",
    "print(is_prime(2))   \n",
    "print(is_prime(7))   \n",
    "print(is_prime(15))  \n",
    "print(is_prime(1))   "
   ]
  },
  {
   "cell_type": "code",
   "execution_count": 76,
   "id": "e89cecdd",
   "metadata": {},
   "outputs": [
    {
     "name": "stdout",
     "output_type": "stream",
     "text": [
      "1\n",
      "2\n",
      "6\n",
      "24\n",
      "120\n",
      "The factorial of 5 is 120\n"
     ]
    }
   ],
   "source": [
    "#Q11\n",
    "n = int(input(\"Enter a number: \"))\n",
    "\n",
    "def fact(n):\n",
    "\n",
    "    if n > 0:\n",
    "        result = n * fact(n - 1)\n",
    "        print(result)\n",
    "    else:\n",
    "        result = 1   \n",
    "\n",
    "    return result\n",
    "\n",
    "\n",
    "factorial = fact(n)\n",
    "print(f\"The factorial of {n} is {factorial}\")     "
   ]
  }
 ],
 "metadata": {
  "kernelspec": {
   "display_name": "base",
   "language": "python",
   "name": "python3"
  },
  "language_info": {
   "codemirror_mode": {
    "name": "ipython",
    "version": 3
   },
   "file_extension": ".py",
   "mimetype": "text/x-python",
   "name": "python",
   "nbconvert_exporter": "python",
   "pygments_lexer": "ipython3",
   "version": "3.12.7"
  }
 },
 "nbformat": 4,
 "nbformat_minor": 5
}

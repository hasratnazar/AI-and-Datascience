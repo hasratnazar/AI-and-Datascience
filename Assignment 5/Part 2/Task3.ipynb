{
 "cells": [
  {
   "cell_type": "markdown",
   "id": "a1fe6d3f",
   "metadata": {},
   "source": [
    "Multi-level => Family Tree"
   ]
  },
  {
   "cell_type": "code",
   "execution_count": 15,
   "id": "4303b259",
   "metadata": {},
   "outputs": [],
   "source": [
    "#base class\n",
    "class grandparent:\n",
    "    def family_name(self):   #method\n",
    "        return \"Khan\""
   ]
  },
  {
   "cell_type": "code",
   "execution_count": 16,
   "id": "816d2c32",
   "metadata": {},
   "outputs": [],
   "source": [
    "#inherited class from base class\n",
    "class parent(grandparent):\n",
    "    def occupation(self):\n",
    "        return \"Engineer\""
   ]
  },
  {
   "cell_type": "code",
   "execution_count": 17,
   "id": "6fdb6aab",
   "metadata": {},
   "outputs": [],
   "source": [
    "#inherited class from parent class\n",
    "class child(parent):\n",
    "    def hobby(self):\n",
    "        return \"Reading\""
   ]
  },
  {
   "cell_type": "code",
   "execution_count": 20,
   "id": "9427612c",
   "metadata": {},
   "outputs": [],
   "source": [
    "c = child() #create object of child class"
   ]
  },
  {
   "cell_type": "code",
   "execution_count": 22,
   "id": "7469c117",
   "metadata": {},
   "outputs": [
    {
     "name": "stdout",
     "output_type": "stream",
     "text": [
      "Khan\n",
      "Engineer\n",
      "Reading\n"
     ]
    }
   ],
   "source": [
    "print(c.family_name())\n",
    "print(c.occupation())\n",
    "print(c.hobby())"
   ]
  }
 ],
 "metadata": {
  "kernelspec": {
   "display_name": "Python 3",
   "language": "python",
   "name": "python3"
  },
  "language_info": {
   "codemirror_mode": {
    "name": "ipython",
    "version": 3
   },
   "file_extension": ".py",
   "mimetype": "text/x-python",
   "name": "python",
   "nbconvert_exporter": "python",
   "pygments_lexer": "ipython3",
   "version": "3.13.0"
  }
 },
 "nbformat": 4,
 "nbformat_minor": 5
}

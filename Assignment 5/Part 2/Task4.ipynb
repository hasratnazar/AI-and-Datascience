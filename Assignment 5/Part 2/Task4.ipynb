{
 "cells": [
  {
   "cell_type": "markdown",
   "id": "0f36dc0d",
   "metadata": {},
   "source": [
    "Multiple Inheritance  => Skills"
   ]
  },
  {
   "cell_type": "code",
   "execution_count": 25,
   "id": "df232708",
   "metadata": {},
   "outputs": [],
   "source": [
    "#parent class\n",
    "\n",
    "class Father:\n",
    "    def skills(self):  #method\n",
    "        return \"Scientist\""
   ]
  },
  {
   "cell_type": "code",
   "execution_count": 26,
   "id": "dbed22b8",
   "metadata": {},
   "outputs": [],
   "source": [
    "#parent class\n",
    "\n",
    "class Mother:\n",
    "    def skills(self): #method\n",
    "        return \"Free Lancer\""
   ]
  },
  {
   "cell_type": "code",
   "execution_count": 27,
   "id": "111f1831",
   "metadata": {},
   "outputs": [],
   "source": [
    "#child class inheriting from both Father and Mother class\n",
    "\n",
    "class child (Father, Mother):\n",
    "    def Combined_skills(self): #method\n",
    "        return Father.skills(self) + \" and \" + Mother.skills(self)"
   ]
  },
  {
   "cell_type": "code",
   "execution_count": 28,
   "id": "fa3a1183",
   "metadata": {},
   "outputs": [],
   "source": [
    "c1 = child() #create object of child class"
   ]
  },
  {
   "cell_type": "code",
   "execution_count": 29,
   "id": "033ea484",
   "metadata": {},
   "outputs": [
    {
     "name": "stdout",
     "output_type": "stream",
     "text": [
      "Scientist\n",
      "Free Lancer\n",
      "Scientist and Free Lancer\n"
     ]
    }
   ],
   "source": [
    "print(Father().skills())\n",
    "print(Mother().skills())\n",
    "print(c1.Combined_skills())"
   ]
  }
 ],
 "metadata": {
  "kernelspec": {
   "display_name": "Python 3",
   "language": "python",
   "name": "python3"
  },
  "language_info": {
   "codemirror_mode": {
    "name": "ipython",
    "version": 3
   },
   "file_extension": ".py",
   "mimetype": "text/x-python",
   "name": "python",
   "nbconvert_exporter": "python",
   "pygments_lexer": "ipython3",
   "version": "3.13.0"
  }
 },
 "nbformat": 4,
 "nbformat_minor": 5
}

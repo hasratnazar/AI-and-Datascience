{
 "cells": [
  {
   "cell_type": "markdown",
   "id": "ee0d7688",
   "metadata": {},
   "source": [
    "Single level inheritance => Vehicle"
   ]
  },
  {
   "cell_type": "code",
   "execution_count": 6,
   "id": "872ad3aa",
   "metadata": {},
   "outputs": [],
   "source": [
    "#parent class\n",
    "class Vehicle:\n",
    "    def __init__(self, brand, model): #attributes\n",
    "        self.brand = brand\n",
    "        self.model = model\n",
    "\n",
    "        "
   ]
  },
  {
   "cell_type": "code",
   "execution_count": 7,
   "id": "1c518561",
   "metadata": {},
   "outputs": [],
   "source": [
    "#child class\n",
    "class Car(Vehicle):\n",
    "    def __init__(self, brand, model, seats):\n",
    "        super().__init__(brand, model) #inherit attributes from parent class\n",
    "        self.seats = seats #new attribute for child class\n",
    "        "
   ]
  },
  {
   "cell_type": "code",
   "execution_count": 8,
   "id": "875c929a",
   "metadata": {},
   "outputs": [],
   "source": [
    "#create object of child class\n",
    "BMW = Car(\"BMW\", \"X5\", 5) "
   ]
  },
  {
   "cell_type": "code",
   "execution_count": 9,
   "id": "909f2c5b",
   "metadata": {},
   "outputs": [
    {
     "name": "stdout",
     "output_type": "stream",
     "text": [
      "BMW , X5 , 5\n"
     ]
    }
   ],
   "source": [
    "print(BMW.brand,\",\", BMW.model,\",\" ,BMW.seats)\n"
   ]
  }
 ],
 "metadata": {
  "kernelspec": {
   "display_name": "Python 3",
   "language": "python",
   "name": "python3"
  },
  "language_info": {
   "codemirror_mode": {
    "name": "ipython",
    "version": 3
   },
   "file_extension": ".py",
   "mimetype": "text/x-python",
   "name": "python",
   "nbconvert_exporter": "python",
   "pygments_lexer": "ipython3",
   "version": "3.13.0"
  }
 },
 "nbformat": 4,
 "nbformat_minor": 5
}

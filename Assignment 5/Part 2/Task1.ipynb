{
 "cells": [
  {
   "cell_type": "markdown",
   "id": "cf787dd9",
   "metadata": {},
   "source": [
    "Single level inheritance => Animal"
   ]
  },
  {
   "cell_type": "code",
   "execution_count": 2,
   "id": "4607c7eb",
   "metadata": {},
   "outputs": [],
   "source": [
    "#parent class\n",
    "class Animal:\n",
    "    def make_sound(self):  #method\n",
    "        return \"All animals make sounds\""
   ]
  },
  {
   "cell_type": "code",
   "execution_count": 3,
   "id": "87def1fe",
   "metadata": {},
   "outputs": [],
   "source": [
    "#child class\n",
    "class Dog(Animal):\n",
    "    def make_sound(self): #override method\n",
    "        return \"Barks\"  "
   ]
  },
  {
   "cell_type": "code",
   "execution_count": 4,
   "id": "d1a7c4ac",
   "metadata": {},
   "outputs": [
    {
     "name": "stdout",
     "output_type": "stream",
     "text": [
      "All animals make sounds\n",
      "Barks\n"
     ]
    }
   ],
   "source": [
    "tommy = Dog()   #create object of child class\n",
    "animal1 = Animal()  #create object of parent class\n",
    "\n",
    "print(animal1.make_sound()) \n",
    "print(tommy.make_sound())  "
   ]
  }
 ],
 "metadata": {
  "kernelspec": {
   "display_name": "Python 3",
   "language": "python",
   "name": "python3"
  },
  "language_info": {
   "codemirror_mode": {
    "name": "ipython",
    "version": 3
   },
   "file_extension": ".py",
   "mimetype": "text/x-python",
   "name": "python",
   "nbconvert_exporter": "python",
   "pygments_lexer": "ipython3",
   "version": "3.13.0"
  }
 },
 "nbformat": 4,
 "nbformat_minor": 5
}

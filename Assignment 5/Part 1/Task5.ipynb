{
 "cells": [
  {
   "cell_type": "markdown",
   "id": "24b375dd",
   "metadata": {},
   "source": [
    "Using encapsulation a concept of OOP, to create a class named Shopping cart with private list items and defining methods to add_items, remove_items and view_cart"
   ]
  },
  {
   "cell_type": "code",
   "execution_count": 1,
   "id": "ce09a111",
   "metadata": {},
   "outputs": [],
   "source": [
    "class ShoppingCart:\n",
    "    def __init__(self):\n",
    "        self.__items = [] \n",
    "\n",
    "\n",
    "    def add_item(self, item):\n",
    "        self.__items.append(item)  \n",
    "\n",
    "\n",
    "    def remove_item(self, item):\n",
    "        if item in self.__items:\n",
    "            self.__items.remove(item)  \n",
    "\n",
    "\n",
    "    def view_cart(self):\n",
    "        return self.__items            "
   ]
  },
  {
   "cell_type": "code",
   "execution_count": 2,
   "id": "ab73091c",
   "metadata": {},
   "outputs": [
    {
     "name": "stdout",
     "output_type": "stream",
     "text": [
      "['Juice', 'Banana', 'Pen']\n"
     ]
    }
   ],
   "source": [
    "p1  = ShoppingCart()\n",
    "p1.add_item(\"Juice\")\n",
    "p1.add_item(\"Banana\")\n",
    "p1.add_item(\"Pen\")   \n",
    "print(p1.view_cart())"
   ]
  },
  {
   "cell_type": "code",
   "execution_count": 3,
   "id": "f1d1c947",
   "metadata": {},
   "outputs": [
    {
     "ename": "AttributeError",
     "evalue": "'ShoppingCart' object has no attribute '__items'",
     "output_type": "error",
     "traceback": [
      "\u001b[1;31m---------------------------------------------------------------------------\u001b[0m",
      "\u001b[1;31mAttributeError\u001b[0m                            Traceback (most recent call last)",
      "Cell \u001b[1;32mIn[3], line 1\u001b[0m\n\u001b[1;32m----> 1\u001b[0m \u001b[38;5;28mprint\u001b[39m(\u001b[43mp1\u001b[49m\u001b[38;5;241;43m.\u001b[39;49m\u001b[43m__items\u001b[49m) \u001b[38;5;66;03m#shows error because __items is private attribute\u001b[39;00m\n",
      "\u001b[1;31mAttributeError\u001b[0m: 'ShoppingCart' object has no attribute '__items'"
     ]
    }
   ],
   "source": [
    "print(p1.__items) #shows error because __items is private attribute"
   ]
  },
  {
   "cell_type": "code",
   "execution_count": 4,
   "id": "74b5c239",
   "metadata": {},
   "outputs": [
    {
     "data": {
      "text/plain": [
       "['Juice', 'Pen']"
      ]
     },
     "execution_count": 4,
     "metadata": {},
     "output_type": "execute_result"
    }
   ],
   "source": [
    "p1.remove_item(\"Banana\")\n",
    "p1.view_cart()"
   ]
  }
 ],
 "metadata": {
  "kernelspec": {
   "display_name": "Python 3",
   "language": "python",
   "name": "python3"
  },
  "language_info": {
   "codemirror_mode": {
    "name": "ipython",
    "version": 3
   },
   "file_extension": ".py",
   "mimetype": "text/x-python",
   "name": "python",
   "nbconvert_exporter": "python",
   "pygments_lexer": "ipython3",
   "version": "3.13.0"
  }
 },
 "nbformat": 4,
 "nbformat_minor": 5
}

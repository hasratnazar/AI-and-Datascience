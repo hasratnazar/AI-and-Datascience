{
 "cells": [
  {
   "cell_type": "markdown",
   "id": "b8ae83f2",
   "metadata": {},
   "source": [
    "Using encapsulation a concept of OOP, to create a class named Employee with getter and setter methods for getting the name and setting the salary then defining to show details of employee class"
   ]
  },
  {
   "cell_type": "code",
   "execution_count": 39,
   "id": "87600bd6",
   "metadata": {},
   "outputs": [],
   "source": [
    "class employee:\n",
    "    def __init__(self,name , salary):\n",
    "        self.__name = name\n",
    "        self.__salary = salary\n",
    "\n",
    "    \n",
    "    #getter method for name\n",
    "    def get_name(self, name):\n",
    "        self.__name = name\n",
    "\n",
    "\n",
    "\n",
    "    #setter method for salary\n",
    "    def set_salary(self, salary=None):\n",
    "        if salary is not None:\n",
    "            self.__salary = salary\n",
    "        else:\n",
    "            self.__salary = 0\n",
    "    \n",
    "\n",
    "\n",
    "\n",
    "    #method to show details\n",
    "    def show_details(self):\n",
    "        return f\"Name: {self.__name}, Salary: {self.__salary}\"    "
   ]
  },
  {
   "cell_type": "code",
   "execution_count": 40,
   "id": "85d41a30",
   "metadata": {},
   "outputs": [],
   "source": [
    "emp1 = employee(\"Hasrat\", 50000)"
   ]
  },
  {
   "cell_type": "code",
   "execution_count": 41,
   "id": "58bb7df1",
   "metadata": {},
   "outputs": [
    {
     "data": {
      "text/plain": [
       "'Name: Hasrat, Salary: 50000'"
      ]
     },
     "execution_count": 41,
     "metadata": {},
     "output_type": "execute_result"
    }
   ],
   "source": [
    "emp1.show_details()"
   ]
  },
  {
   "cell_type": "code",
   "execution_count": 42,
   "id": "91d7e44e",
   "metadata": {},
   "outputs": [
    {
     "data": {
      "text/plain": [
       "'Name: Ali, Salary: 50000'"
      ]
     },
     "execution_count": 42,
     "metadata": {},
     "output_type": "execute_result"
    }
   ],
   "source": [
    "emp1.get_name(\"Ali\")\n",
    "emp1.show_details()"
   ]
  },
  {
   "cell_type": "code",
   "execution_count": 47,
   "id": "60455446",
   "metadata": {},
   "outputs": [],
   "source": [
    "emp1.set_salary(100000)"
   ]
  },
  {
   "cell_type": "code",
   "execution_count": 48,
   "id": "61b7ba91",
   "metadata": {},
   "outputs": [
    {
     "data": {
      "text/plain": [
       "'Name: Ali, Salary: 100000'"
      ]
     },
     "execution_count": 48,
     "metadata": {},
     "output_type": "execute_result"
    }
   ],
   "source": [
    "emp1.show_details()"
   ]
  }
 ],
 "metadata": {
  "kernelspec": {
   "display_name": "Python 3",
   "language": "python",
   "name": "python3"
  },
  "language_info": {
   "codemirror_mode": {
    "name": "ipython",
    "version": 3
   },
   "file_extension": ".py",
   "mimetype": "text/x-python",
   "name": "python",
   "nbconvert_exporter": "python",
   "pygments_lexer": "ipython3",
   "version": "3.13.0"
  }
 },
 "nbformat": 4,
 "nbformat_minor": 5
}

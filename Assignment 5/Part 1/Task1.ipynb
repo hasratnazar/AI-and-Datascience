{
 "cells": [
  {
   "cell_type": "markdown",
   "id": "9faaa9bd",
   "metadata": {},
   "source": [
    "Using encapsulation a concept of OOP, to create a class named BankAccount with private attributes acc_no and balance then creating methods to deposit, withdraw, and show the balance."
   ]
  },
  {
   "cell_type": "code",
   "execution_count": 2,
   "id": "bc0498cd",
   "metadata": {},
   "outputs": [],
   "source": [
    "class BankAccount:\n",
    "    def __init__(self,  acc_no, balance):\n",
    "        self.__acc_no = acc_no\n",
    "        self.__balance = balance\n",
    "\n",
    "\n",
    "\n",
    "    def deposit(self, amount):\n",
    "        if amount > 0:\n",
    "            self.__balance += amount\n",
    "            return f\"Deposited: {amount}. New balance: {self.__balance}\"\n",
    "        else:\n",
    "            print(\"Deposit amount must be positive.\")\n",
    "\n",
    "\n",
    "    def withdraw(self, amount):\n",
    "        if 0 < amount <= self.__balance:\n",
    "            self.__balance -= amount\n",
    "            return f\"Withdrew: {amount}. New balance: {self.__balance}\"\n",
    "        else:\n",
    "            print(\"Insufficient funds or invalid withdrawal amount.\")       \n",
    "\n",
    "\n",
    "\n",
    "\n",
    "    def get_balance(self):\n",
    "        return self.__balance        "
   ]
  },
  {
   "cell_type": "code",
   "execution_count": 3,
   "id": "1c57e741",
   "metadata": {},
   "outputs": [],
   "source": [
    "acc1 = BankAccount(\"12345678\", 5000)\n",
    "acc2 = BankAccount(\"87654321\", 3000)\n"
   ]
  },
  {
   "cell_type": "code",
   "execution_count": 4,
   "id": "d74a534a",
   "metadata": {},
   "outputs": [
    {
     "name": "stdout",
     "output_type": "stream",
     "text": [
      "5000\n",
      "3000\n"
     ]
    }
   ],
   "source": [
    "print(acc1.get_balance()) \n",
    "print(acc2.get_balance())"
   ]
  },
  {
   "cell_type": "code",
   "execution_count": 5,
   "id": "d1a08b86",
   "metadata": {},
   "outputs": [
    {
     "name": "stdout",
     "output_type": "stream",
     "text": [
      "Deposited: 1500. New balance: 6500\n",
      "Deposited: 1500. New balance: 4500\n"
     ]
    }
   ],
   "source": [
    "print(acc1.deposit(1500))\n",
    "print(acc2.deposit(1500))"
   ]
  },
  {
   "cell_type": "code",
   "execution_count": 6,
   "id": "df274595",
   "metadata": {},
   "outputs": [
    {
     "name": "stdout",
     "output_type": "stream",
     "text": [
      "Withdrew: 2000. New balance: 4500\n",
      "Withdrew: 2000. New balance: 2500\n"
     ]
    }
   ],
   "source": [
    "print(acc1.withdraw(2000))\n",
    "print(acc2.withdraw(2000))"
   ]
  }
 ],
 "metadata": {
  "kernelspec": {
   "display_name": "Python 3",
   "language": "python",
   "name": "python3"
  },
  "language_info": {
   "codemirror_mode": {
    "name": "ipython",
    "version": 3
   },
   "file_extension": ".py",
   "mimetype": "text/x-python",
   "name": "python",
   "nbconvert_exporter": "python",
   "pygments_lexer": "ipython3",
   "version": "3.13.0"
  }
 },
 "nbformat": 4,
 "nbformat_minor": 5
}

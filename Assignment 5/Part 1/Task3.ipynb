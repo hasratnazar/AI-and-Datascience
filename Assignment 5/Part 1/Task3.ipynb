{
 "cells": [
  {
   "cell_type": "markdown",
   "id": "961c1167",
   "metadata": {},
   "source": [
    "Using encapsulation a concept of OOP, to create a class named PasswordManager with private attributes password, private method check_user and check_password; for checking user input and returns true/flase for every password entry."
   ]
  },
  {
   "cell_type": "code",
   "execution_count": 9,
   "id": "034407dc",
   "metadata": {},
   "outputs": [],
   "source": [
    "class PasswordManager:\n",
    "    def __init__(self,username, password):\n",
    "        self.username = username\n",
    "        self.__password = password\n",
    "\n",
    "\n",
    "\n",
    "    def set_password(self, old_password, new_password):\n",
    "        if old_password == self.__password:\n",
    "            self.__password = new_password\n",
    "            return \"Password updated successfully.\"\n",
    "        else:\n",
    "            return \"Old password is incorrect, plz enter correct password.\"\n",
    "        \n",
    "\n",
    "    def __check_username(self, name):\n",
    "        if name == self.username:\n",
    "            return True\n",
    "        else:\n",
    "            return False\n",
    "\n",
    "\n",
    "\n",
    "    def __check_password(self, password):\n",
    "        if password == self.__password:\n",
    "            return True\n",
    "        else:\n",
    "            return False"
   ]
  },
  {
   "cell_type": "code",
   "execution_count": 19,
   "id": "4d91aff9",
   "metadata": {},
   "outputs": [],
   "source": [
    "user1 = PasswordManager(\"user1\", \"pass123\")"
   ]
  },
  {
   "cell_type": "code",
   "execution_count": 20,
   "id": "3c00e9a9",
   "metadata": {},
   "outputs": [
    {
     "data": {
      "text/plain": [
       "'Old password is incorrect, plz enter correct password.'"
      ]
     },
     "execution_count": 20,
     "metadata": {},
     "output_type": "execute_result"
    }
   ],
   "source": [
    "user1.set_password(\"pass1233\", \"newpass456\")"
   ]
  },
  {
   "cell_type": "code",
   "execution_count": 21,
   "id": "2b7b48fa",
   "metadata": {},
   "outputs": [
    {
     "data": {
      "text/plain": [
       "'Password updated successfully.'"
      ]
     },
     "execution_count": 21,
     "metadata": {},
     "output_type": "execute_result"
    }
   ],
   "source": [
    "user1.set_password(\"pass123\", \"newpass456\")"
   ]
  }
 ],
 "metadata": {
  "kernelspec": {
   "display_name": "Python 3",
   "language": "python",
   "name": "python3"
  },
  "language_info": {
   "codemirror_mode": {
    "name": "ipython",
    "version": 3
   },
   "file_extension": ".py",
   "mimetype": "text/x-python",
   "name": "python",
   "nbconvert_exporter": "python",
   "pygments_lexer": "ipython3",
   "version": "3.13.0"
  }
 },
 "nbformat": 4,
 "nbformat_minor": 5
}

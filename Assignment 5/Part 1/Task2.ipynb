{
 "cells": [
  {
   "cell_type": "markdown",
   "id": "8d569ab5",
   "metadata": {},
   "source": [
    "Using encapsulation a concept of OOP, to create a class named Student with private attributes name, roll_no and marks then using getter and setter method to access and manipulate the private attributes."
   ]
  },
  {
   "cell_type": "code",
   "execution_count": 23,
   "id": "ef31ffe1",
   "metadata": {},
   "outputs": [],
   "source": [
    "class student:\n",
    "\n",
    "    def __init__(self, name, roll_no, marks):\n",
    "        self.__name = name\n",
    "        self.__roll_no = roll_no\n",
    "        self.__marks = marks\n",
    "\n",
    "\n",
    "\n",
    "    #setter methods\n",
    "    def set_marks(self, marks):\n",
    "        if 0 <= marks <= 100:\n",
    "            self.__marks = marks\n",
    "            return f\"Marks updated to: {marks}\"\n",
    "        else:\n",
    "            print(\"Invalid marks. Please enter a value between 0 and 100.\")    \n",
    "\n",
    "\n",
    "    #getter methods\n",
    "    def get_name(self):\n",
    "        return self.__name\n",
    "\n",
    "    def get_roll_no(self):\n",
    "        return self.__roll_no    \n",
    "\n",
    "    def get_marks(self):\n",
    "        return self.__marks    \n"
   ]
  },
  {
   "cell_type": "code",
   "execution_count": 26,
   "id": "401b6629",
   "metadata": {},
   "outputs": [],
   "source": [
    "Hasrat = student(\"Hasrat\", 40, 85)\n",
    "Hamza = student(\"Hamza\", 41, 90)"
   ]
  },
  {
   "cell_type": "code",
   "execution_count": 27,
   "id": "d034ddb6",
   "metadata": {},
   "outputs": [
    {
     "name": "stdout",
     "output_type": "stream",
     "text": [
      "Hasrat\n",
      "40\n",
      "85\n",
      "Marks updated to: 95\n"
     ]
    }
   ],
   "source": [
    "print(Hasrat.get_name()) \n",
    "print(Hasrat.get_roll_no())\n",
    "print(Hasrat.get_marks())\n",
    "print(Hasrat.set_marks(95)) "
   ]
  },
  {
   "cell_type": "code",
   "execution_count": 28,
   "id": "8b5cbaf1",
   "metadata": {},
   "outputs": [
    {
     "name": "stdout",
     "output_type": "stream",
     "text": [
      "Hamza\n",
      "41\n",
      "90\n",
      "Marks updated to: 100\n"
     ]
    }
   ],
   "source": [
    "print(Hamza.get_name())\n",
    "print(Hamza.get_roll_no())\n",
    "print(Hamza.get_marks())\n",
    "print(Hamza.set_marks(100))"
   ]
  }
 ],
 "metadata": {
  "kernelspec": {
   "display_name": "Python 3",
   "language": "python",
   "name": "python3"
  },
  "language_info": {
   "codemirror_mode": {
    "name": "ipython",
    "version": 3
   },
   "file_extension": ".py",
   "mimetype": "text/x-python",
   "name": "python",
   "nbconvert_exporter": "python",
   "pygments_lexer": "ipython3",
   "version": "3.13.0"
  }
 },
 "nbformat": 4,
 "nbformat_minor": 5
}

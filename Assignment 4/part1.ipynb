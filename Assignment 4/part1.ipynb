{
 "cells": [
  {
   "cell_type": "markdown",
   "id": "17768fba",
   "metadata": {},
   "source": [
    "Part 1: SRMS using nested list"
   ]
  },
  {
   "cell_type": "code",
   "execution_count": 1,
   "id": "92e0fcd5",
   "metadata": {},
   "outputs": [],
   "source": [
    "student_record = []\n"
   ]
  },
  {
   "cell_type": "code",
   "execution_count": 2,
   "id": "996b0476",
   "metadata": {},
   "outputs": [],
   "source": [
    "def add_student():\n",
    "    name = input(\"Enter student name: \")\n",
    "    roll_no = input(\"Enter student Roll No: \")\n",
    "    course = input(\"Enter student course: \")\n",
    "    marks = float(input(\"Enter student marks: \"))\n",
    "\n",
    "    student_record.append([name, roll_no, course, marks])\n",
    "    print(f\"Student {name} added successfully.\")"
   ]
  },
  {
   "cell_type": "code",
   "execution_count": 3,
   "id": "d89ef013",
   "metadata": {},
   "outputs": [],
   "source": [
    "def display_students():\n",
    "    if not student_record:\n",
    "        print(\"No student records available.\")\n",
    "        return\n",
    "\n",
    "    print(\"\\nStudent Records:\")\n",
    "    for record in student_record:\n",
    "        print(f\"Name: {record[0]}, Roll No: {record[1]}, Course: {record[2]}, Marks: {record[3]}\")\n",
    "\n",
    "        "
   ]
  },
  {
   "cell_type": "code",
   "execution_count": 4,
   "id": "ca32f16c",
   "metadata": {},
   "outputs": [],
   "source": [
    "def search_student(roll_no):\n",
    "    for record in student_record:\n",
    "        if record[1] == roll_no:\n",
    "            print(f\"Student Found: Name: {record[0]}, Roll No: {record[1]}, Course: {record[2]}, Marks: {record[3]}\")\n",
    "            return\n",
    "        \n",
    "    print(\"Student not found.\")"
   ]
  },
  {
   "cell_type": "code",
   "execution_count": 5,
   "id": "8515832a",
   "metadata": {},
   "outputs": [],
   "source": [
    "def update_marks():\n",
    "    roll_no = input(\"Enter Roll No of the student to update marks: \")\n",
    "    for record in student_record:\n",
    "        if record[1] == roll_no:\n",
    "            new_marks = float(input(f\"Enter new marks for {record[0]}: \"))\n",
    "            record[3] = new_marks\n",
    "            print(f\"Marks updated for {record[0]}.\")\n",
    "            return\n",
    "    print(\"Student not found.\")"
   ]
  },
  {
   "cell_type": "code",
   "execution_count": 6,
   "id": "644b9fcc",
   "metadata": {},
   "outputs": [],
   "source": [
    "def delete_student(roll_no):\n",
    "    for i, record in enumerate(student_record):\n",
    "        if record[1] == roll_no:\n",
    "            del student_record[i]\n",
    "            print(f\"Student with Roll No {roll_no} deleted.\")\n",
    "            return\n",
    "    print(\"Student not found.\")"
   ]
  },
  {
   "cell_type": "code",
   "execution_count": 7,
   "id": "1efb8a80",
   "metadata": {},
   "outputs": [],
   "source": [
    "def sort_records():\n",
    "    if student_record:\n",
    "        student_record.sort(key=lambda x: x[3], reverse=True)\n",
    "        print(\"Records sorted.\")\n",
    "    else:\n",
    "        print(\"No student records to sort.\")"
   ]
  },
  {
   "cell_type": "code",
   "execution_count": 8,
   "id": "f50e2bf3",
   "metadata": {},
   "outputs": [
    {
     "name": "stdout",
     "output_type": "stream",
     "text": [
      "\n",
      "Menu:\n",
      "1. Add Student\n",
      "2. Display Students\n",
      "3. Search Student\n",
      "4. Update Student Marks\n",
      "5. Delete Student\n",
      "6. Sort Students\n",
      "7. Exit\n",
      "Student Hasrat Nazar added successfully.\n",
      "\n",
      "Menu:\n",
      "1. Add Student\n",
      "2. Display Students\n",
      "3. Search Student\n",
      "4. Update Student Marks\n",
      "5. Delete Student\n",
      "6. Sort Students\n",
      "7. Exit\n",
      "Student Ali added successfully.\n",
      "\n",
      "Menu:\n",
      "1. Add Student\n",
      "2. Display Students\n",
      "3. Search Student\n",
      "4. Update Student Marks\n",
      "5. Delete Student\n",
      "6. Sort Students\n",
      "7. Exit\n",
      "\n",
      "Student Records:\n",
      "Name: Hasrat Nazar, Roll No: 45, Course: Ai, Marks: 88.0\n",
      "Name: Ali, Roll No: 22, Course: DS, Marks: 65.0\n",
      "\n",
      "Menu:\n",
      "1. Add Student\n",
      "2. Display Students\n",
      "3. Search Student\n",
      "4. Update Student Marks\n",
      "5. Delete Student\n",
      "6. Sort Students\n",
      "7. Exit\n",
      "Student Found: Name: Hasrat Nazar, Roll No: 45, Course: Ai, Marks: 88.0\n",
      "\n",
      "Menu:\n",
      "1. Add Student\n",
      "2. Display Students\n",
      "3. Search Student\n",
      "4. Update Student Marks\n",
      "5. Delete Student\n",
      "6. Sort Students\n",
      "7. Exit\n",
      "Marks updated for Ali.\n",
      "\n",
      "Menu:\n",
      "1. Add Student\n",
      "2. Display Students\n",
      "3. Search Student\n",
      "4. Update Student Marks\n",
      "5. Delete Student\n",
      "6. Sort Students\n",
      "7. Exit\n",
      "Student with Roll No 22 deleted.\n",
      "\n",
      "Menu:\n",
      "1. Add Student\n",
      "2. Display Students\n",
      "3. Search Student\n",
      "4. Update Student Marks\n",
      "5. Delete Student\n",
      "6. Sort Students\n",
      "7. Exit\n",
      "Records sorted.\n",
      "\n",
      "Menu:\n",
      "1. Add Student\n",
      "2. Display Students\n",
      "3. Search Student\n",
      "4. Update Student Marks\n",
      "5. Delete Student\n",
      "6. Sort Students\n",
      "7. Exit\n",
      "Exiting the program.\n"
     ]
    }
   ],
   "source": [
    "while True:\n",
    "    print(\"\\nMenu:\")\n",
    "    print(\"1. Add Student\")\n",
    "    print(\"2. Display Students\")\n",
    "    print(\"3. Search Student\")\n",
    "    print(\"4. Update Student Marks\")\n",
    "    print(\"5. Delete Student\")\n",
    "    print(\"6. Sort Students\")\n",
    "    print(\"7. Exit\")\n",
    "\n",
    "    choice = input(\"Enter your choice: \")\n",
    "\n",
    "    if choice == '1':\n",
    "        add_student()\n",
    "    elif choice == '2':\n",
    "        display_students()\n",
    "    elif choice == '3':\n",
    "        roll_no = input(\"Enter Roll No to search: \")\n",
    "        search_student(roll_no)    \n",
    "    elif choice == '4':\n",
    "        update_marks()\n",
    "    elif choice == '5':\n",
    "        roll_no = input(\"Enter Roll No to delete: \")\n",
    "        delete_student(roll_no)\n",
    "    elif choice == '6':\n",
    "        sort_records()\n",
    "    elif choice == '7':\n",
    "        print(\"Exiting the program.\")\n",
    "        break\n",
    "    else:\n",
    "        print(\"Invalid choice. Please try again.\")"
   ]
  },
  {
   "cell_type": "code",
   "execution_count": null,
   "id": "c9162fae",
   "metadata": {},
   "outputs": [],
   "source": []
  }
 ],
 "metadata": {
  "kernelspec": {
   "display_name": "base",
   "language": "python",
   "name": "python3"
  },
  "language_info": {
   "codemirror_mode": {
    "name": "ipython",
    "version": 3
   },
   "file_extension": ".py",
   "mimetype": "text/x-python",
   "name": "python",
   "nbconvert_exporter": "python",
   "pygments_lexer": "ipython3",
   "version": "3.12.7"
  }
 },
 "nbformat": 4,
 "nbformat_minor": 5
}

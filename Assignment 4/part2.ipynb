{
 "cells": [
  {
   "cell_type": "markdown",
   "id": "1a12e07c",
   "metadata": {},
   "source": [
    "Part 2: SRMS using list of dictionaries"
   ]
  },
  {
   "cell_type": "code",
   "execution_count": 4,
   "id": "0d67cbb5",
   "metadata": {},
   "outputs": [],
   "source": [
    "student_record = []"
   ]
  },
  {
   "cell_type": "code",
   "execution_count": 3,
   "id": "0055d6db",
   "metadata": {},
   "outputs": [],
   "source": [
    "def add_student():\n",
    "    name = input(\"Enter student name: \")\n",
    "    roll_no = input(\"Enter student Roll No: \")\n",
    "    course = input(\"Enter student course: \")        \n",
    "    marks = float(input(\"Enter student marks: \"))\n",
    "  \n",
    "\n",
    "    student_records = {\n",
    "        \"name\": name,\n",
    "        \"roll_no\": roll_no,\n",
    "        \"course\": course,\n",
    "        \"marks\": marks\n",
    "    }\n",
    "\n",
    "    student_record.append(student_records)\n",
    "    print(f\"Student {name} added successfully.\")"
   ]
  },
  {
   "cell_type": "code",
   "execution_count": 5,
   "id": "ae3fd383",
   "metadata": {},
   "outputs": [],
   "source": [
    "def display_students():\n",
    "    if not student_record:\n",
    "        print(\"No student records available.\")\n",
    "        return\n",
    "\n",
    "    print(\"\\nStudent Records:\")\n",
    "    for record in student_record:\n",
    "        print(f\"Name: {record['name']}, Roll No: {record['roll_no']}, Course: {record['course']}, Marks: {record['marks']}\")"
   ]
  },
  {
   "cell_type": "code",
   "execution_count": 6,
   "id": "66dc790d",
   "metadata": {},
   "outputs": [],
   "source": [
    "def search():\n",
    "    roll_no = input(\"Enter Roll No of the student to search: \")\n",
    "    for record in student_record:\n",
    "        if record['roll_no'] == roll_no:\n",
    "            print(f\"Student Found: Name: {record['name']}, Roll No: {record['roll_no']}, Course: {record['course']}, Marks: {record['marks']}\")\n",
    "            return\n",
    "        \n",
    "    print(\"Student not found.\")"
   ]
  },
  {
   "cell_type": "code",
   "execution_count": 7,
   "id": "8e988ece",
   "metadata": {},
   "outputs": [],
   "source": [
    "def update_marks():\n",
    "    roll_no = input(\"Enter Roll No of the student to update marks: \")\n",
    "    for record in student_record:\n",
    "        if record['roll_no'] == roll_no:\n",
    "            new_marks = float(input(f\"Enter new marks for {record['name']}: \"))\n",
    "            record['marks'] = new_marks\n",
    "            print(f\"Marks updated for {record['name']}.\")\n",
    "            return\n",
    "    print(\"Student not found.\")"
   ]
  },
  {
   "cell_type": "code",
   "execution_count": 39,
   "id": "087276de",
   "metadata": {},
   "outputs": [],
   "source": [
    "def delete_student():\n",
    "    roll = input(\"Enter Roll Number to delete: \")\n",
    "    for record in student_record:\n",
    "        if record[\"roll_no\"] == roll:\n",
    "            student_record.remove(record)\n",
    "            print(\"Student deleted successfully!\\n\")\n",
    "            return\n",
    "    print(\"Student not found.\\n\")\n"
   ]
  },
  {
   "cell_type": "code",
   "execution_count": 40,
   "id": "d7a8e3d5",
   "metadata": {},
   "outputs": [],
   "source": [
    "def sort_records():\n",
    "    if student_record:\n",
    "        student_record.sort(key=lambda x: x[\"marks\"], reverse=True)\n",
    "        print(\"Records sorted.\")\n",
    "    else:\n",
    "        print(\"No student records to sort.\")"
   ]
  },
  {
   "cell_type": "code",
   "execution_count": 42,
   "id": "ee1f4b71",
   "metadata": {},
   "outputs": [
    {
     "name": "stdout",
     "output_type": "stream",
     "text": [
      "\n",
      "Menu:\n",
      "1. Add Student\n",
      "2. Display Students\n",
      "3. Search Student\n",
      "4. Update Student Marks\n",
      "5. Delete Student\n",
      "6. Sort Students\n",
      "7. Exit\n",
      "Student Asad added successfully.\n",
      "\n",
      "Menu:\n",
      "1. Add Student\n",
      "2. Display Students\n",
      "3. Search Student\n",
      "4. Update Student Marks\n",
      "5. Delete Student\n",
      "6. Sort Students\n",
      "7. Exit\n",
      "\n",
      "Student Records:\n",
      "Name: Hasrat Nazar, Roll No: 44, Course: ai, Marks: 99.0\n",
      "Name: Ali, Roll No: 55, Course: ds, Marks: 88.0\n",
      "Name: Asad, Roll No: 45, Course: Java, Marks: 66.0\n",
      "\n",
      "Menu:\n",
      "1. Add Student\n",
      "2. Display Students\n",
      "3. Search Student\n",
      "4. Update Student Marks\n",
      "5. Delete Student\n",
      "6. Sort Students\n",
      "7. Exit\n",
      "Student Found: Name: Hasrat Nazar, Roll No: 44, Course: ai, Marks: 99.0\n",
      "\n",
      "Menu:\n",
      "1. Add Student\n",
      "2. Display Students\n",
      "3. Search Student\n",
      "4. Update Student Marks\n",
      "5. Delete Student\n",
      "6. Sort Students\n",
      "7. Exit\n",
      "Marks updated for Asad.\n",
      "\n",
      "Menu:\n",
      "1. Add Student\n",
      "2. Display Students\n",
      "3. Search Student\n",
      "4. Update Student Marks\n",
      "5. Delete Student\n",
      "6. Sort Students\n",
      "7. Exit\n",
      "Student deleted successfully!\n",
      "\n",
      "\n",
      "Menu:\n",
      "1. Add Student\n",
      "2. Display Students\n",
      "3. Search Student\n",
      "4. Update Student Marks\n",
      "5. Delete Student\n",
      "6. Sort Students\n",
      "7. Exit\n",
      "Records sorted.\n",
      "\n",
      "Menu:\n",
      "1. Add Student\n",
      "2. Display Students\n",
      "3. Search Student\n",
      "4. Update Student Marks\n",
      "5. Delete Student\n",
      "6. Sort Students\n",
      "7. Exit\n",
      "Exiting the program.\n"
     ]
    }
   ],
   "source": [
    "while True:\n",
    "    print(\"\\nMenu:\")\n",
    "    print(\"1. Add Student\")\n",
    "    print(\"2. Display Students\")\n",
    "    print(\"3. Search Student\")\n",
    "    print(\"4. Update Student Marks\")\n",
    "    print(\"5. Delete Student\")\n",
    "    print(\"6. Sort Students\")\n",
    "    print(\"7. Exit\")\n",
    "\n",
    "    choice = input(\"Enter your choice: \")\n",
    "\n",
    "    if choice == '1':\n",
    "        add_student()\n",
    "    elif choice == '2':\n",
    "        display_students()\n",
    "    elif choice == '3':\n",
    "        search()\n",
    "    elif choice == '4':\n",
    "        update_marks()\n",
    "    elif choice == '5':\n",
    "        delete_student() \n",
    "    elif choice == '6':\n",
    "        sort_records()       \n",
    "    elif choice == '7':\n",
    "        print(\"Exiting the program.\")\n",
    "        break\n",
    "    else:\n",
    "        print(\"Invalid choice. Please try again.\") "
   ]
  },
  {
   "cell_type": "code",
   "execution_count": null,
   "id": "57d2d572",
   "metadata": {},
   "outputs": [],
   "source": []
  }
 ],
 "metadata": {
  "kernelspec": {
   "display_name": "base",
   "language": "python",
   "name": "python3"
  },
  "language_info": {
   "codemirror_mode": {
    "name": "ipython",
    "version": 3
   },
   "file_extension": ".py",
   "mimetype": "text/x-python",
   "name": "python",
   "nbconvert_exporter": "python",
   "pygments_lexer": "ipython3",
   "version": "3.12.7"
  }
 },
 "nbformat": 4,
 "nbformat_minor": 5
}

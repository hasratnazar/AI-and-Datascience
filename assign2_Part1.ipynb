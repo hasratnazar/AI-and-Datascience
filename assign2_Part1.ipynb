{
 "cells": [
  {
   "cell_type": "markdown",
   "id": "0adec603",
   "metadata": {},
   "source": [
    "Decision-Making Structures"
   ]
  },
  {
   "cell_type": "code",
   "execution_count": 7,
   "id": "8cdee261",
   "metadata": {},
   "outputs": [
    {
     "name": "stdout",
     "output_type": "stream",
     "text": [
      "The number is zero.\n"
     ]
    }
   ],
   "source": [
    "#Q1\n",
    "\n",
    "number = int(input(\"Enter a number:\"))\n",
    "\n",
    "if number > 0:\n",
    "     print(\"The number is positive.\")    \n",
    "elif number < 0:\n",
    "     print(\"The number is negative.\")\n",
    "else:\n",
    "     print(\"The number is zero.\")     "
   ]
  },
  {
   "cell_type": "code",
   "execution_count": 19,
   "id": "3ba83b21",
   "metadata": {},
   "outputs": [
    {
     "name": "stdout",
     "output_type": "stream",
     "text": [
      "2 is less than 4\n"
     ]
    }
   ],
   "source": [
    "#Q2\n",
    "\n",
    "num1 = int(input(\"Enter first number: \"))\n",
    "\n",
    "num2 = int(input(\"Enter second number: \"))\n",
    "\n",
    "if num1 > num2:\n",
    "    print(f\"{num1} is greater than {num2}\")         \n",
    "       \n",
    "else:\n",
    "    print(f\"{num1} is less than {num2}\") \n"
   ]
  },
  {
   "cell_type": "code",
   "execution_count": 24,
   "id": "b9595b85",
   "metadata": {},
   "outputs": [
    {
     "name": "stdout",
     "output_type": "stream",
     "text": [
      "6 is the greatest number.\n"
     ]
    }
   ],
   "source": [
    "#Q3\n",
    "num1 = int(input(\"Enter first number: \"))\n",
    "num2 = int(input(\"Enter second number: \"))\n",
    "num3 = int(input(\"Enter third number: \"))\n",
    "\n",
    "if num1 > num2 and num1 > num3:\n",
    "    print(f\"{num1} is the greatest number.\")    \n",
    "\n",
    "elif num2 > num1 and num2 > num3:\n",
    "    print(f\"{num2} is the greatest number.\")   \n",
    "     \n",
    "else:\n",
    "    print(f\"{num3} is the greatest number.\")\n"
   ]
  },
  {
   "cell_type": "code",
   "execution_count": 29,
   "id": "e7bc0d10",
   "metadata": {},
   "outputs": [
    {
     "name": "stdout",
     "output_type": "stream",
     "text": [
      "String Found!\n"
     ]
    }
   ],
   "source": [
    "#Q4\n",
    "String = \"Saylani Mass IT \"\n",
    "Str = \"Mass\"\n",
    "# str = input(\"Enter a string: \")\n",
    "\n",
    "if Str in String:\n",
    "    print(\"String Found!\")\n",
    "\n",
    "else:\n",
    "    print(\"String Not Found!\")    "
   ]
  },
  {
   "cell_type": "code",
   "execution_count": 32,
   "id": "77293086",
   "metadata": {},
   "outputs": [
    {
     "name": "stdout",
     "output_type": "stream",
     "text": [
      "You are an adult.\n"
     ]
    }
   ],
   "source": [
    "#Q5\n",
    "age = int(input(\"Enter your age: \"))\n",
    "\n",
    "if age < 18:\n",
    "    print(\"You are a minor.\")   \n",
    "\n",
    "elif 18 < age < 60:\n",
    "    print(\"You are an adult.\")  \n",
    "\n",
    "else:\n",
    "    print(\"You are a senior citizen.\")"
   ]
  },
  {
   "cell_type": "code",
   "execution_count": 34,
   "id": "d8828a09",
   "metadata": {},
   "outputs": [
    {
     "name": "stdout",
     "output_type": "stream",
     "text": [
      "6 is an even number.\n"
     ]
    }
   ],
   "source": [
    "#Q6\n",
    "num = int(input(\"Enter a number: \"))\n",
    "\n",
    "if num % 2 == 0:\n",
    "    print(f\"{num} is an even number.\")\n",
    "else:\n",
    "    print(f\"{num} is an odd number.\")   \n",
    "        "
   ]
  },
  {
   "cell_type": "code",
   "execution_count": 39,
   "id": "0febffb8",
   "metadata": {},
   "outputs": [
    {
     "name": "stdout",
     "output_type": "stream",
     "text": [
      "Result: 2\n"
     ]
    }
   ],
   "source": [
    "#Q7\n",
    "\n",
    "num1 = int(input(\"Enter first number: \"))\n",
    "num2 = int(input(\"Enter second number: \"))\n",
    "\n",
    "operator = input(\"Enter operator (/ , x , + , -): \")\n",
    "\n",
    "if operator == \"+\":\n",
    "    print(f\"Result: {num1 + num2}\")\n",
    "\n",
    "elif operator == \"-\":\n",
    "    print(f\"Result: {num1 - num2}\")\n",
    "\n",
    "elif operator == \"x\":\n",
    "    print(f\"Result: {num1 * num2}\")\n",
    "\n",
    "elif operator == \"/\":\n",
    "\n",
    "    if num2 != 0:\n",
    "        print(f\"Result: {num1 / num2}\")\n",
    "    else:\n",
    "        print(\"Error: Division by zero is not allowed.\")\n",
    "else:\n",
    "    print(\"Invalid operator entered!\")\n"
   ]
  },
  {
   "cell_type": "code",
   "execution_count": 42,
   "id": "dd3a7ebf",
   "metadata": {},
   "outputs": [
    {
     "name": "stdout",
     "output_type": "stream",
     "text": [
      "20 is lies in the range  20 to 40.\n"
     ]
    }
   ],
   "source": [
    "#Q8\n",
    "\n",
    "num = int(input(\"Enter a number: \"))\n",
    "\n",
    "if 20 <= num < 40:\n",
    "    print(f\"{num} is lies in the range  20 to 40.\")\n",
    "\n",
    "else:\n",
    "    print(f\"{num} is not in the range  20 to 40.\")\n"
   ]
  },
  {
   "cell_type": "code",
   "execution_count": 45,
   "id": "84f70601",
   "metadata": {},
   "outputs": [
    {
     "name": "stdout",
     "output_type": "stream",
     "text": [
      "12 is divisible by both 2 and 3.\n"
     ]
    }
   ],
   "source": [
    "#Q9\n",
    "\n",
    "num = int(input(\"Enter a number: \"))\n",
    "\n",
    "if num % 2 == 0 and num % 3 == 0:\n",
    "    print(f\"{num} is divisible by both 2 and 3.\")\n",
    "\n",
    "elif num % 2 == 0:\n",
    "    print(f\"{num} is divisible only by 2.\")\n",
    "\n",
    "elif num % 3 == 0:\n",
    "    print(f\"{num} is divisible only by 3.\")    \n",
    "\n",
    "else:\n",
    "    print(f\"{num} is not divisible by either 2 or 3.\")"
   ]
  },
  {
   "cell_type": "code",
   "execution_count": 3,
   "id": "868b374d",
   "metadata": {},
   "outputs": [
    {
     "name": "stdout",
     "output_type": "stream",
     "text": [
      "You have passed the exam.\n"
     ]
    }
   ],
   "source": [
    "#q10\n",
    "\n",
    "score = int(input(\"Enter your score: \"))\n",
    "\n",
    "if score > 60:\n",
    "    print(\"You have passed the exam.\")\n",
    "else:\n",
    "    print(\"You have failed the exam.\")    "
   ]
  },
  {
   "cell_type": "code",
   "execution_count": null,
   "id": "575c983e",
   "metadata": {},
   "outputs": [
    {
     "name": "stdout",
     "output_type": "stream",
     "text": [
      "1 is not a prime number\n"
     ]
    }
   ],
   "source": [
    "#Q11\n",
    "\n",
    "num = int(input(\"Enter a number: \"))\n",
    "\n",
    "if num > 1:\n",
    "    for i in range(2, num):\n",
    "        if num % i == 0:\n",
    "            print(num, \"is not a prime number\")\n",
    "            break\n",
    "    else:\n",
    "        print(num, \"is a prime number\")\n",
    "else:\n",
    "    print(num, \"is not a prime number\")\n",
    "\n"
   ]
  },
  {
   "cell_type": "code",
   "execution_count": null,
   "id": "c3af2e06",
   "metadata": {},
   "outputs": [
    {
     "name": "stdout",
     "output_type": "stream",
     "text": [
      "Temperature is moderate.\n"
     ]
    }
   ],
   "source": [
    "#Q12\n",
    "\n",
    "temp = int(input(\"Enter temperature in Celsius: \"))\n",
    "\n",
    "if temp <= 0:\n",
    "    print(\"It's freezing cold!\")\n",
    "\n",
    "elif 0 < temp < 26:\n",
    "    print(\"Temperature is moderate.\")    \n",
    "\n",
    "else:    \n",
    "    print(\"It's hot outside!\")"
   ]
  }
 ],
 "metadata": {
  "kernelspec": {
   "display_name": "base",
   "language": "python",
   "name": "python3"
  },
  "language_info": {
   "codemirror_mode": {
    "name": "ipython",
    "version": 3
   },
   "file_extension": ".py",
   "mimetype": "text/x-python",
   "name": "python",
   "nbconvert_exporter": "python",
   "pygments_lexer": "ipython3",
   "version": "3.12.7"
  }
 },
 "nbformat": 4,
 "nbformat_minor": 5
}
